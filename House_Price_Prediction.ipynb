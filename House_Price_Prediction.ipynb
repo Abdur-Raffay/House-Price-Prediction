{
  "nbformat": 4,
  "nbformat_minor": 0,
  "metadata": {
    "colab": {
      "name": "House_Price_Prediction.ipynb",
      "provenance": [],
      "collapsed_sections": [],
      "toc_visible": true,
      "mount_file_id": "1vHo5Ub3vLVMNNUqqJlyc67JaeZXL2wet",
      "authorship_tag": "ABX9TyNiW7+f5G5was452mL/Tqr8",
      "include_colab_link": true
    },
    "kernelspec": {
      "name": "python3",
      "display_name": "Python 3"
    },
    "language_info": {
      "name": "python"
    }
  },
  "cells": [
    {
      "cell_type": "markdown",
      "metadata": {
        "id": "view-in-github",
        "colab_type": "text"
      },
      "source": [
        "<a href=\"https://colab.research.google.com/github/Abdur-Raffay/House-Price-Prediction/blob/main/House_Price_Prediction.ipynb\" target=\"_parent\"><img src=\"https://colab.research.google.com/assets/colab-badge.svg\" alt=\"Open In Colab\"/></a>"
      ]
    },
    {
      "cell_type": "markdown",
      "source": [
        "Importing the Dependencies"
      ],
      "metadata": {
        "id": "prK5bNUInshd"
      }
    },
    {
      "cell_type": "code",
      "execution_count": 29,
      "metadata": {
        "id": "63Y-KJD3nNFk"
      },
      "outputs": [],
      "source": [
        "import numpy as np\n",
        "import pandas as pd\n",
        "import matplotlib.pyplot as plt\n",
        "from sklearn.linear_model import LinearRegression\n",
        "from xgboost import XGBRegressor\n",
        "from sklearn import metrics\n",
        "from sklearn import preprocessing\n",
        "from google.colab import files"
      ]
    },
    {
      "cell_type": "markdown",
      "source": [
        "Loading Datasets"
      ],
      "metadata": {
        "id": "iBkrbP-np3wy"
      }
    },
    {
      "cell_type": "code",
      "source": [
        "test = pd.read_csv(\"https://raw.githubusercontent.com/Abdur-Raffay/House-Price-Prediction/main/test.csv\")\n",
        "train = pd.read_csv(\"https://raw.githubusercontent.com/Abdur-Raffay/House-Price-Prediction/main/train.csv\")\n",
        "\n"
      ],
      "metadata": {
        "id": "cVEi6tTJpy_T"
      },
      "execution_count": 2,
      "outputs": []
    },
    {
      "cell_type": "markdown",
      "source": [
        "Let's Check Datatypes of Train"
      ],
      "metadata": {
        "id": "6fDLkjL3Z4wC"
      }
    },
    {
      "cell_type": "markdown",
      "source": [
        "Checking for columns with huge missing data in train"
      ],
      "metadata": {
        "id": "V6Ic0lPjnMLt"
      }
    },
    {
      "cell_type": "code",
      "source": [
        "train.info()\n",
        "missing_list = []\n",
        "#Checking for missiong values\n",
        "for row in train:\n",
        "  if train.isnull().sum()[row]>400:\n",
        "    missing_list.append(row)\n",
        "print(missing_list)\n",
        "train = train.drop(missing_list,axis = 'columns')\n"
      ],
      "metadata": {
        "id": "rrpEu2erpzXS"
      },
      "execution_count": null,
      "outputs": []
    },
    {
      "cell_type": "markdown",
      "source": [
        "Checking Datatypes of Test"
      ],
      "metadata": {
        "id": "MBaESXY_ZLg1"
      }
    },
    {
      "cell_type": "markdown",
      "source": [
        "Checking for Columns with Huge Missing Data in Test"
      ],
      "metadata": {
        "id": "JBAGIcBpMFxU"
      }
    },
    {
      "cell_type": "code",
      "source": [
        "test.info()\n",
        "missing_list_test = []\n",
        "for row in test:\n",
        "  if test.isnull().sum()[row]>400:\n",
        "    missing_list_test.append(row)\n",
        "\n",
        "print(missing_list_test)\n",
        "test = test.drop(missing_list_test,axis = 'columns')\n",
        "\n",
        "\n"
      ],
      "metadata": {
        "id": "BTeFg_kcZbn1",
        "colab": {
          "base_uri": "https://localhost:8080/"
        },
        "outputId": "a301a1d8-433e-4fe3-e560-9927493d1cf0"
      },
      "execution_count": 20,
      "outputs": [
        {
          "output_type": "stream",
          "name": "stdout",
          "text": [
            "<class 'pandas.core.frame.DataFrame'>\n",
            "RangeIndex: 1459 entries, 0 to 1458\n",
            "Data columns (total 75 columns):\n",
            " #   Column         Non-Null Count  Dtype  \n",
            "---  ------         --------------  -----  \n",
            " 0   Id             1459 non-null   int64  \n",
            " 1   MSSubClass     1459 non-null   int64  \n",
            " 2   MSZoning       1459 non-null   int64  \n",
            " 3   LotFrontage    1232 non-null   float64\n",
            " 4   LotArea        1459 non-null   int64  \n",
            " 5   Street         1459 non-null   int64  \n",
            " 6   LotShape       1459 non-null   int64  \n",
            " 7   LandContour    1459 non-null   int64  \n",
            " 8   Utilities      1459 non-null   int64  \n",
            " 9   LotConfig      1459 non-null   int64  \n",
            " 10  LandSlope      1459 non-null   int64  \n",
            " 11  Neighborhood   1459 non-null   int64  \n",
            " 12  Condition1     1459 non-null   int64  \n",
            " 13  Condition2     1459 non-null   int64  \n",
            " 14  BldgType       1459 non-null   int64  \n",
            " 15  HouseStyle     1459 non-null   int64  \n",
            " 16  OverallQual    1459 non-null   int64  \n",
            " 17  OverallCond    1459 non-null   int64  \n",
            " 18  YearBuilt      1459 non-null   int64  \n",
            " 19  YearRemodAdd   1459 non-null   int64  \n",
            " 20  RoofStyle      1459 non-null   int64  \n",
            " 21  RoofMatl       1459 non-null   int64  \n",
            " 22  Exterior1st    1459 non-null   int64  \n",
            " 23  Exterior2nd    1459 non-null   int64  \n",
            " 24  MasVnrType     1459 non-null   int64  \n",
            " 25  MasVnrArea     1444 non-null   float64\n",
            " 26  ExterQual      1459 non-null   int64  \n",
            " 27  ExterCond      1459 non-null   int64  \n",
            " 28  Foundation     1459 non-null   int64  \n",
            " 29  BsmtQual       1459 non-null   int64  \n",
            " 30  BsmtCond       1459 non-null   int64  \n",
            " 31  BsmtExposure   1459 non-null   int64  \n",
            " 32  BsmtFinType1   1459 non-null   int64  \n",
            " 33  BsmtFinSF1     1458 non-null   float64\n",
            " 34  BsmtFinType2   1459 non-null   int64  \n",
            " 35  BsmtFinSF2     1458 non-null   float64\n",
            " 36  BsmtUnfSF      1458 non-null   float64\n",
            " 37  TotalBsmtSF    1458 non-null   float64\n",
            " 38  Heating        1459 non-null   int64  \n",
            " 39  HeatingQC      1459 non-null   int64  \n",
            " 40  CentralAir     1459 non-null   int64  \n",
            " 41  Electrical     1459 non-null   int64  \n",
            " 42  1stFlrSF       1459 non-null   int64  \n",
            " 43  2ndFlrSF       1459 non-null   int64  \n",
            " 44  LowQualFinSF   1459 non-null   int64  \n",
            " 45  GrLivArea      1459 non-null   int64  \n",
            " 46  BsmtFullBath   1457 non-null   float64\n",
            " 47  BsmtHalfBath   1457 non-null   float64\n",
            " 48  FullBath       1459 non-null   int64  \n",
            " 49  HalfBath       1459 non-null   int64  \n",
            " 50  BedroomAbvGr   1459 non-null   int64  \n",
            " 51  KitchenAbvGr   1459 non-null   int64  \n",
            " 52  KitchenQual    1459 non-null   int64  \n",
            " 53  TotRmsAbvGrd   1459 non-null   int64  \n",
            " 54  Functional     1459 non-null   int64  \n",
            " 55  Fireplaces     1459 non-null   int64  \n",
            " 56  GarageType     1459 non-null   int64  \n",
            " 57  GarageYrBlt    1381 non-null   float64\n",
            " 58  GarageFinish   1459 non-null   int64  \n",
            " 59  GarageCars     1458 non-null   float64\n",
            " 60  GarageArea     1458 non-null   float64\n",
            " 61  GarageQual     1459 non-null   int64  \n",
            " 62  GarageCond     1459 non-null   int64  \n",
            " 63  PavedDrive     1459 non-null   int64  \n",
            " 64  WoodDeckSF     1459 non-null   int64  \n",
            " 65  OpenPorchSF    1459 non-null   int64  \n",
            " 66  EnclosedPorch  1459 non-null   int64  \n",
            " 67  3SsnPorch      1459 non-null   int64  \n",
            " 68  ScreenPorch    1459 non-null   int64  \n",
            " 69  PoolArea       1459 non-null   int64  \n",
            " 70  MiscVal        1459 non-null   int64  \n",
            " 71  MoSold         1459 non-null   int64  \n",
            " 72  YrSold         1459 non-null   int64  \n",
            " 73  SaleType       1459 non-null   int64  \n",
            " 74  SaleCondition  1459 non-null   int64  \n",
            "dtypes: float64(11), int64(64)\n",
            "memory usage: 855.0 KB\n",
            "[]\n",
            "<class 'pandas.core.frame.DataFrame'>\n",
            "RangeIndex: 1459 entries, 0 to 1458\n",
            "Data columns (total 75 columns):\n",
            " #   Column         Non-Null Count  Dtype  \n",
            "---  ------         --------------  -----  \n",
            " 0   Id             1459 non-null   int64  \n",
            " 1   MSSubClass     1459 non-null   int64  \n",
            " 2   MSZoning       1459 non-null   int64  \n",
            " 3   LotFrontage    1232 non-null   float64\n",
            " 4   LotArea        1459 non-null   int64  \n",
            " 5   Street         1459 non-null   int64  \n",
            " 6   LotShape       1459 non-null   int64  \n",
            " 7   LandContour    1459 non-null   int64  \n",
            " 8   Utilities      1459 non-null   int64  \n",
            " 9   LotConfig      1459 non-null   int64  \n",
            " 10  LandSlope      1459 non-null   int64  \n",
            " 11  Neighborhood   1459 non-null   int64  \n",
            " 12  Condition1     1459 non-null   int64  \n",
            " 13  Condition2     1459 non-null   int64  \n",
            " 14  BldgType       1459 non-null   int64  \n",
            " 15  HouseStyle     1459 non-null   int64  \n",
            " 16  OverallQual    1459 non-null   int64  \n",
            " 17  OverallCond    1459 non-null   int64  \n",
            " 18  YearBuilt      1459 non-null   int64  \n",
            " 19  YearRemodAdd   1459 non-null   int64  \n",
            " 20  RoofStyle      1459 non-null   int64  \n",
            " 21  RoofMatl       1459 non-null   int64  \n",
            " 22  Exterior1st    1459 non-null   int64  \n",
            " 23  Exterior2nd    1459 non-null   int64  \n",
            " 24  MasVnrType     1459 non-null   int64  \n",
            " 25  MasVnrArea     1444 non-null   float64\n",
            " 26  ExterQual      1459 non-null   int64  \n",
            " 27  ExterCond      1459 non-null   int64  \n",
            " 28  Foundation     1459 non-null   int64  \n",
            " 29  BsmtQual       1459 non-null   int64  \n",
            " 30  BsmtCond       1459 non-null   int64  \n",
            " 31  BsmtExposure   1459 non-null   int64  \n",
            " 32  BsmtFinType1   1459 non-null   int64  \n",
            " 33  BsmtFinSF1     1458 non-null   float64\n",
            " 34  BsmtFinType2   1459 non-null   int64  \n",
            " 35  BsmtFinSF2     1458 non-null   float64\n",
            " 36  BsmtUnfSF      1458 non-null   float64\n",
            " 37  TotalBsmtSF    1458 non-null   float64\n",
            " 38  Heating        1459 non-null   int64  \n",
            " 39  HeatingQC      1459 non-null   int64  \n",
            " 40  CentralAir     1459 non-null   int64  \n",
            " 41  Electrical     1459 non-null   int64  \n",
            " 42  1stFlrSF       1459 non-null   int64  \n",
            " 43  2ndFlrSF       1459 non-null   int64  \n",
            " 44  LowQualFinSF   1459 non-null   int64  \n",
            " 45  GrLivArea      1459 non-null   int64  \n",
            " 46  BsmtFullBath   1457 non-null   float64\n",
            " 47  BsmtHalfBath   1457 non-null   float64\n",
            " 48  FullBath       1459 non-null   int64  \n",
            " 49  HalfBath       1459 non-null   int64  \n",
            " 50  BedroomAbvGr   1459 non-null   int64  \n",
            " 51  KitchenAbvGr   1459 non-null   int64  \n",
            " 52  KitchenQual    1459 non-null   int64  \n",
            " 53  TotRmsAbvGrd   1459 non-null   int64  \n",
            " 54  Functional     1459 non-null   int64  \n",
            " 55  Fireplaces     1459 non-null   int64  \n",
            " 56  GarageType     1459 non-null   int64  \n",
            " 57  GarageYrBlt    1381 non-null   float64\n",
            " 58  GarageFinish   1459 non-null   int64  \n",
            " 59  GarageCars     1458 non-null   float64\n",
            " 60  GarageArea     1458 non-null   float64\n",
            " 61  GarageQual     1459 non-null   int64  \n",
            " 62  GarageCond     1459 non-null   int64  \n",
            " 63  PavedDrive     1459 non-null   int64  \n",
            " 64  WoodDeckSF     1459 non-null   int64  \n",
            " 65  OpenPorchSF    1459 non-null   int64  \n",
            " 66  EnclosedPorch  1459 non-null   int64  \n",
            " 67  3SsnPorch      1459 non-null   int64  \n",
            " 68  ScreenPorch    1459 non-null   int64  \n",
            " 69  PoolArea       1459 non-null   int64  \n",
            " 70  MiscVal        1459 non-null   int64  \n",
            " 71  MoSold         1459 non-null   int64  \n",
            " 72  YrSold         1459 non-null   int64  \n",
            " 73  SaleType       1459 non-null   int64  \n",
            " 74  SaleCondition  1459 non-null   int64  \n",
            "dtypes: float64(11), int64(64)\n",
            "memory usage: 855.0 KB\n"
          ]
        }
      ]
    },
    {
      "cell_type": "markdown",
      "source": [
        "Statistical Measures of Datasets"
      ],
      "metadata": {
        "id": "6A2Fh8gCilel"
      }
    },
    {
      "cell_type": "code",
      "source": [
        "train.describe()\n"
      ],
      "metadata": {
        "id": "ncv56jfuiqr_"
      },
      "execution_count": null,
      "outputs": []
    },
    {
      "cell_type": "code",
      "source": [
        "test.describe()"
      ],
      "metadata": {
        "id": "JJccAzn8jYhK"
      },
      "execution_count": null,
      "outputs": []
    },
    {
      "cell_type": "markdown",
      "source": [
        "Data Preprocessing"
      ],
      "metadata": {
        "id": "pgjk1tIzzE0q"
      }
    },
    {
      "cell_type": "markdown",
      "source": [
        "Changing Dtype of Trains & Test Columns from object to int64"
      ],
      "metadata": {
        "id": "CXNBpGUrkOcg"
      }
    },
    {
      "cell_type": "code",
      "source": [
        "lbl = preprocessing.LabelEncoder()\n",
        "for col in train:\n",
        "  if train[col].dtype == 'object':\n",
        "    train[col] = lbl.fit_transform(train[col].astype(str))\n",
        "\n",
        "for co in test:\n",
        "  if test[co].dtype == 'object':\n",
        "    test[co] = lbl.fit_transform(test[co].astype(str))\n",
        "  \n",
        "train.info()\n",
        "test.info()\n",
        "  \n",
        "\n"
      ],
      "metadata": {
        "id": "TmOJIQVwzEQ7"
      },
      "execution_count": null,
      "outputs": []
    },
    {
      "cell_type": "markdown",
      "source": [
        ""
      ],
      "metadata": {
        "id": "vUwgBsqop-YI"
      }
    },
    {
      "cell_type": "markdown",
      "source": [
        "XGBoost Regressor"
      ],
      "metadata": {
        "id": "9uILKmMktgbc"
      }
    },
    {
      "cell_type": "code",
      "source": [
        "train_X = train.drop(['Id','SalePrice'],axis = 'columns')\n",
        "train_Y = train['SalePrice']\n",
        "test_X = test.drop(['Id'],axis = 'columns')\n",
        "model = XGBRegressor()\n",
        "model.fit(train_X, train_Y)\n",
        "\n"
      ],
      "metadata": {
        "colab": {
          "base_uri": "https://localhost:8080/"
        },
        "id": "c4_FvSv-tl82",
        "outputId": "6f171045-a95e-4f5f-b241-30bfa37e27d9"
      },
      "execution_count": 24,
      "outputs": [
        {
          "output_type": "stream",
          "name": "stdout",
          "text": [
            "[11:30:53] WARNING: /workspace/src/objective/regression_obj.cu:152: reg:linear is now deprecated in favor of reg:squarederror.\n"
          ]
        },
        {
          "output_type": "execute_result",
          "data": {
            "text/plain": [
              "XGBRegressor()"
            ]
          },
          "metadata": {},
          "execution_count": 24
        }
      ]
    },
    {
      "cell_type": "markdown",
      "source": [
        "Evaluation"
      ],
      "metadata": {
        "id": "5MXVsyL5ld55"
      }
    },
    {
      "cell_type": "markdown",
      "source": [
        "Comparing the Y_Train Prices(Original Prices) with Prices Predicted from X_Train By Model"
      ],
      "metadata": {
        "id": "d-jXkV_Ql51p"
      }
    },
    {
      "cell_type": "code",
      "source": [
        "training_data_prediction = model.predict(train_X) \n",
        "print(training_data_prediction) \n",
        "\n",
        "#Mean Absolute Error\n",
        "m_ab_error = np.mean(np.abs((train_Y - training_data_prediction) / train_Y))*100\n",
        "\n",
        "print(\"Mean Absolute Error: \",m_ab_error)"
      ],
      "metadata": {
        "colab": {
          "base_uri": "https://localhost:8080/"
        },
        "id": "0_yYYxiGlgpZ",
        "outputId": "4cd03682-0d01-4b03-9909-257c19782797"
      },
      "execution_count": 23,
      "outputs": [
        {
          "output_type": "stream",
          "name": "stdout",
          "text": [
            "[202306.67 167568.06 209959.   ... 260682.52 141323.47 147112.06]\n",
            "Mean Absolute Error:  6.719250859337386\n"
          ]
        }
      ]
    },
    {
      "cell_type": "markdown",
      "source": [
        "Submission"
      ],
      "metadata": {
        "id": "fHoAX4ivuEM9"
      }
    },
    {
      "cell_type": "code",
      "source": [
        "prediction = model.predict(test_X)\n",
        "\n",
        "output = pd.DataFrame({'Id':test.Id,'SalePrice':prediction})\n",
        "\n",
        "output.to_csv('Submission.csv')\n",
        "\n",
        "files.download('Submission.csv')"
      ],
      "metadata": {
        "colab": {
          "base_uri": "https://localhost:8080/",
          "height": 17
        },
        "id": "9rkmZAy3uFiz",
        "outputId": "b28f9c47-5201-4c64-ab62-cce9ae5ad952"
      },
      "execution_count": 31,
      "outputs": [
        {
          "output_type": "display_data",
          "data": {
            "text/plain": [
              "<IPython.core.display.Javascript object>"
            ],
            "application/javascript": [
              "\n",
              "    async function download(id, filename, size) {\n",
              "      if (!google.colab.kernel.accessAllowed) {\n",
              "        return;\n",
              "      }\n",
              "      const div = document.createElement('div');\n",
              "      const label = document.createElement('label');\n",
              "      label.textContent = `Downloading \"${filename}\": `;\n",
              "      div.appendChild(label);\n",
              "      const progress = document.createElement('progress');\n",
              "      progress.max = size;\n",
              "      div.appendChild(progress);\n",
              "      document.body.appendChild(div);\n",
              "\n",
              "      const buffers = [];\n",
              "      let downloaded = 0;\n",
              "\n",
              "      const channel = await google.colab.kernel.comms.open(id);\n",
              "      // Send a message to notify the kernel that we're ready.\n",
              "      channel.send({})\n",
              "\n",
              "      for await (const message of channel.messages) {\n",
              "        // Send a message to notify the kernel that we're ready.\n",
              "        channel.send({})\n",
              "        if (message.buffers) {\n",
              "          for (const buffer of message.buffers) {\n",
              "            buffers.push(buffer);\n",
              "            downloaded += buffer.byteLength;\n",
              "            progress.value = downloaded;\n",
              "          }\n",
              "        }\n",
              "      }\n",
              "      const blob = new Blob(buffers, {type: 'application/binary'});\n",
              "      const a = document.createElement('a');\n",
              "      a.href = window.URL.createObjectURL(blob);\n",
              "      a.download = filename;\n",
              "      div.appendChild(a);\n",
              "      a.click();\n",
              "      div.remove();\n",
              "    }\n",
              "  "
            ]
          },
          "metadata": {}
        },
        {
          "output_type": "display_data",
          "data": {
            "text/plain": [
              "<IPython.core.display.Javascript object>"
            ],
            "application/javascript": [
              "download(\"download_c2e132fd-18c0-4ca6-a702-4318dd087f03\", \"Submission.csv\", 27870)"
            ]
          },
          "metadata": {}
        }
      ]
    }
  ]
}